{
 "cells": [
  {
   "cell_type": "code",
   "execution_count": 1,
   "metadata": {},
   "outputs": [
    {
     "name": "stderr",
     "output_type": "stream",
     "text": [
      "/Users/yunqiguo/tensorflow/lib/python2.7/site-packages/h5py/__init__.py:36: FutureWarning: Conversion of the second argument of issubdtype from `float` to `np.floating` is deprecated. In future, it will be treated as `np.float64 == np.dtype(float).type`.\n",
      "  from ._conv import register_converters as _register_converters\n"
     ]
    }
   ],
   "source": [
    "import numpy as np\n",
    "import matplotlib.mlab as mlab\n",
    "import matplotlib.pyplot as plt\n",
    "import os\n",
    "import pandas as pd\n",
    "import tensorflow as tf\n",
    "%matplotlib inline  "
   ]
  },
  {
   "cell_type": "markdown",
   "metadata": {},
   "source": [
    "### 1. Generate the real_X and real_Y dataset"
   ]
  },
  {
   "cell_type": "code",
   "execution_count": 2,
   "metadata": {},
   "outputs": [
    {
     "name": "stdout",
     "output_type": "stream",
     "text": [
      "[[0.      0.70176]\n",
      " [1.      0.29824]]\n",
      "[[0.      0.34956]\n",
      " [1.      0.5013 ]\n",
      " [2.      0.14914]]\n"
     ]
    }
   ],
   "source": [
    "data_type = tf.float32\n",
    "\n",
    "def sample_batch(sample_size):\n",
    "    real_X = tf.distributions.Bernoulli(probs = 0.3, dtype = data_type).sample([sample_size,1])\n",
    "    real_Y = prob(real_X)\n",
    "    return real_X, real_Y\n",
    "\n",
    "def prob(X):\n",
    "    return X +  tf.distributions.Bernoulli(probs = 0.5, dtype = data_type).sample(tf.shape(X))\n",
    "\n",
    "def counts(real_Y):\n",
    "    unique, counts = np.unique(real_Y, return_counts=True)\n",
    "    return np.asarray((unique, counts/float(real_Y.size))).T\n",
    "\n",
    "with tf.Session() as sess:\n",
    "    sample_size = 50000.\n",
    "    real_X, real_Y = sess.run(sample_batch(50000))\n",
    "    print counts(real_X)\n",
    "    print counts(real_Y)"
   ]
  },
  {
   "cell_type": "markdown",
   "metadata": {},
   "source": [
    "### 2. Build the adversarial nets"
   ]
  },
  {
   "cell_type": "code",
   "execution_count": 3,
   "metadata": {},
   "outputs": [
    {
     "name": "stdout",
     "output_type": "stream",
     "text": [
      "Iter: 0\n",
      "D_loss: 1.45\n",
      "G_loss: 0.5535\n",
      "()\n",
      "Iter: 10\n",
      "D_loss: 1.285\n",
      "G_loss: 0.6896\n",
      "()\n",
      "Iter: 20\n",
      "D_loss: 1.254\n",
      "G_loss: 0.9184\n",
      "()\n",
      "Iter: 30\n",
      "D_loss: 1.2\n",
      "G_loss: 0.8969\n",
      "()\n",
      "Iter: 40\n",
      "D_loss: 1.208\n",
      "G_loss: 0.9176\n",
      "()\n",
      "Iter: 50\n",
      "D_loss: 1.249\n",
      "G_loss: 0.8797\n",
      "()\n",
      "Iter: 60\n",
      "D_loss: 1.248\n",
      "G_loss: 0.7712\n",
      "()\n",
      "Iter: 70\n",
      "D_loss: 1.274\n",
      "G_loss: 0.8647\n",
      "()\n",
      "Iter: 80\n",
      "D_loss: 1.317\n",
      "G_loss: 0.8205\n",
      "()\n",
      "Iter: 90\n",
      "D_loss: 1.3\n",
      "G_loss: 0.7978\n",
      "()\n"
     ]
    }
   ],
   "source": [
    "nn_type = tf.float32\n",
    "\n",
    "def xavier_init(size):\n",
    "    in_dim = size[0]\n",
    "    xavier_stddev = 1. / tf.sqrt(in_dim / 2.0)\n",
    "    return tf.random_normal(shape = size, stddev = xavier_stddev)\n",
    "\n",
    "X = tf.placeholder(nn_type, shape = [None, 1])\n",
    "Y = tf.placeholder(nn_type, shape = [None, 1])\n",
    "\n",
    "D_W1 = tf.Variable(xavier_init([1,100]))\n",
    "D_b1 = tf.Variable(tf.zeros(shape = [100]))\n",
    "\n",
    "D_W2 = tf.Variable(xavier_init([100,1]))\n",
    "D_b2 = tf.Variable(tf.zeros(shape = [1]))\n",
    "\n",
    "theta_D = [D_W1, D_b1, D_W2, D_b2]\n",
    "\n",
    "Z = tf. placeholder(nn_type, shape = [None, 100])\n",
    "\n",
    "G_W1 = tf.Variable(xavier_init([100, 10]))\n",
    "G_b1 = tf.Variable(tf.zeros(shape = [10]))\n",
    "\n",
    "G_W2 = tf.Variable(xavier_init([10, 1]))\n",
    "G_b2 = tf.Variable(tf.zeros(shape = [1]))\n",
    "\n",
    "theta_G = [G_W1, G_b1, G_W2, G_b2]\n",
    "\n",
    "def sample_Z(m, n):\n",
    "    return np.random.uniform(-1., 1., size = [m, n])\n",
    "\n",
    "def generator(z):\n",
    "    G_h1 = tf.nn.relu(tf.matmul(z, G_W1) + G_b1)\n",
    "    G_log_prob = tf.matmul(G_h1, G_W2) + G_b2\n",
    "    G_x = G_log_prob\n",
    "    \n",
    "    return G_x\n",
    "\n",
    "def discriminator(y):\n",
    "    D_h1 = tf.nn.relu(tf.matmul(y, D_W1) + D_b1)\n",
    "    D_logit = tf.matmul(D_h1, D_W2) + D_b2\n",
    "    D_prob = tf.nn.sigmoid(D_logit)\n",
    "    \n",
    "    return D_prob, D_logit\n",
    "\n",
    "def plot(real_X, real_Y, G_X, G_Y ):\n",
    "    df = pd.DataFrame({\"real_X\": real_X.flatten(), \"real_Y\": real_Y.flatten(), \"fake_X\": G_X.flatten(), \"fake_Y\": G_Y.flatten()})\n",
    "    plot = df.plot(kind='density')\n",
    "    fig = plot.get_figure()\n",
    "    return fig\n",
    "\n",
    "G_sample_X = generator(Z)\n",
    "G_sample_Y = prob(G_sample_X)\n",
    "\n",
    "D_real, D_logit_real = discriminator(Y)\n",
    "D_fake, D_logit_fake = discriminator(G_sample_Y)\n",
    "\n",
    "D_loss_real = tf.reduce_mean(tf.nn.sigmoid_cross_entropy_with_logits(logits=D_logit_real, labels=tf.ones_like(D_logit_real)))\n",
    "D_loss_fake = tf.reduce_mean(tf.nn.sigmoid_cross_entropy_with_logits(logits=D_logit_fake, labels=tf.zeros_like(D_logit_fake)))\n",
    "D_loss = D_loss_real + D_loss_fake\n",
    "\n",
    "G_loss = tf.reduce_mean(tf.nn.sigmoid_cross_entropy_with_logits(logits=D_logit_fake, labels=tf.ones_like(D_logit_fake)))\n",
    "\n",
    "D_solver = tf.train.AdamOptimizer().minimize(D_loss, var_list=theta_D)\n",
    "G_solver = tf.train.AdamOptimizer().minimize(G_loss, var_list=theta_G)\n",
    "\n",
    "mb_size = 128\n",
    "Z_dim = 100\n",
    "\n",
    "sess = tf.Session()\n",
    "sess.run(tf.global_variables_initializer())\n",
    "\n",
    "if not os.path.exists('result_dis_1/'):\n",
    "    os.makedirs('result_dis_1/')\n",
    "\n",
    "i = 0\n",
    "    \n",
    "for it in range(100):\n",
    "    if it % 50 == 0:\n",
    "        real_X, real_Y = sess.run(sample_batch(mb_size * 10))\n",
    "        samples_X = sess.run(G_sample_X, feed_dict={Z: sample_Z(mb_size * 10, Z_dim)})\n",
    "        samples_Y = sess.run(G_sample_Y, feed_dict={G_sample_X: samples_X})\n",
    "        fig = plot(real_X, real_Y, samples_X, samples_Y)\n",
    "        plt.savefig('result_dis_1/{}.png'.format(str(i).zfill(3)), bbox_inches='tight')\n",
    "        i += 1\n",
    "        plt.close(fig)\n",
    "\n",
    "    real_X, real_Y = sess.run(sample_batch(mb_size))\n",
    "\n",
    "    _, D_loss_curr = sess.run([D_solver, D_loss], feed_dict={X: real_X, Y:real_Y, Z: sample_Z(mb_size, Z_dim)})\n",
    "    _, G_loss_curr = sess.run([G_solver, G_loss], feed_dict={Z: sample_Z(mb_size, Z_dim)})\n",
    "\n",
    "    if it % 10 == 0:\n",
    "        print('Iter: {}'.format(it))\n",
    "        print('D_loss: {:.4}'. format(D_loss_curr))\n",
    "        print('G_loss: {:.4}'.format(G_loss_curr))\n",
    "        print()"
   ]
  },
  {
   "cell_type": "markdown",
   "metadata": {},
   "source": [
    "### 3. Print"
   ]
  },
  {
   "cell_type": "code",
   "execution_count": 4,
   "metadata": {},
   "outputs": [
    {
     "data": {
      "image/png": "[encoded data removed]",
      "text/plain": [
       "<matplotlib.figure.Figure at 0x1234385d0>"
      ]
     },
     "metadata": {},
     "output_type": "display_data"
    }
   ],
   "source": [
    "samples_X = sess.run(G_sample_X, feed_dict={Z: sample_Z(5000, Z_dim)})\n",
    "samples_Y = sess.run(G_sample_Y, feed_dict={G_sample_X: samples_X})\n",
    "real_X, real_Y = sess.run(sample_batch(5000))\n",
    "_ = plot(real_X, real_Y, samples_X, samples_Y)"
   ]
  },
  {
   "cell_type": "code",
   "execution_count": null,
   "metadata": {},
   "outputs": [],
   "source": []
  }
 ],
 "metadata": {
  "kernelspec": {
   "display_name": "Python 2",
   "language": "python",
   "name": "python2"
  },
  "language_info": {
   "codemirror_mode": {
    "name": "ipython",
    "version": 2
   },
   "file_extension": ".py",
   "mimetype": "text/x-python",
   "name": "python",
   "nbconvert_exporter": "python",
   "pygments_lexer": "ipython2",
   "version": "2.7.10"
  }
 },
 "nbformat": 4,
 "nbformat_minor": 2
}
